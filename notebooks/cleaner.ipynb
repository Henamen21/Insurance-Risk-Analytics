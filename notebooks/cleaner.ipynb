{
 "cells": [
  {
   "cell_type": "code",
   "execution_count": 3,
   "id": "f815a4e9",
   "metadata": {},
   "outputs": [],
   "source": [
    "import pandas as pd"
   ]
  },
  {
   "cell_type": "code",
   "execution_count": 4,
   "id": "d51839c6",
   "metadata": {},
   "outputs": [
    {
     "name": "stderr",
     "output_type": "stream",
     "text": [
      "C:\\Users\\hp\\AppData\\Local\\Temp\\ipykernel_9644\\2633989368.py:2: DtypeWarning: Columns (32,37) have mixed types. Specify dtype option on import or set low_memory=False.\n",
      "  df = pd.read_csv('..\\\\Data\\\\MachineLearningRating_v3.txt', sep='|')\n"
     ]
    },
    {
     "name": "stdout",
     "output_type": "stream",
     "text": [
      "   UnderwrittenCoverID  PolicyID     TransactionMonth  IsVATRegistered  \\\n",
      "0               145249     12827  2015-03-01 00:00:00             True   \n",
      "1               145249     12827  2015-05-01 00:00:00             True   \n",
      "2               145249     12827  2015-07-01 00:00:00             True   \n",
      "3               145255     12827  2015-05-01 00:00:00             True   \n",
      "4               145255     12827  2015-07-01 00:00:00             True   \n",
      "\n",
      "  Citizenship          LegalType Title Language                 Bank  \\\n",
      "0              Close Corporation    Mr  English  First National Bank   \n",
      "1              Close Corporation    Mr  English  First National Bank   \n",
      "2              Close Corporation    Mr  English  First National Bank   \n",
      "3              Close Corporation    Mr  English  First National Bank   \n",
      "4              Close Corporation    Mr  English  First National Bank   \n",
      "\n",
      "       AccountType  ...                    ExcessSelected CoverCategory  \\\n",
      "0  Current account  ...             Mobility - Windscreen    Windscreen   \n",
      "1  Current account  ...             Mobility - Windscreen    Windscreen   \n",
      "2  Current account  ...             Mobility - Windscreen    Windscreen   \n",
      "3  Current account  ...  Mobility - Metered Taxis - R2000    Own damage   \n",
      "4  Current account  ...  Mobility - Metered Taxis - R2000    Own damage   \n",
      "\n",
      "    CoverType            CoverGroup              Section  \\\n",
      "0  Windscreen  Comprehensive - Taxi  Motor Comprehensive   \n",
      "1  Windscreen  Comprehensive - Taxi  Motor Comprehensive   \n",
      "2  Windscreen  Comprehensive - Taxi  Motor Comprehensive   \n",
      "3  Own Damage  Comprehensive - Taxi  Motor Comprehensive   \n",
      "4  Own Damage  Comprehensive - Taxi  Motor Comprehensive   \n",
      "\n",
      "                           Product StatutoryClass StatutoryRiskType  \\\n",
      "0  Mobility Metered Taxis: Monthly     Commercial     IFRS Constant   \n",
      "1  Mobility Metered Taxis: Monthly     Commercial     IFRS Constant   \n",
      "2  Mobility Metered Taxis: Monthly     Commercial     IFRS Constant   \n",
      "3  Mobility Metered Taxis: Monthly     Commercial     IFRS Constant   \n",
      "4  Mobility Metered Taxis: Monthly     Commercial     IFRS Constant   \n",
      "\n",
      "   TotalPremium TotalClaims  \n",
      "0     21.929825         0.0  \n",
      "1     21.929825         0.0  \n",
      "2      0.000000         0.0  \n",
      "3    512.848070         0.0  \n",
      "4      0.000000         0.0  \n",
      "\n",
      "[5 rows x 52 columns]\n"
     ]
    }
   ],
   "source": [
    "# load file\n",
    "df = pd.read_csv('..\\\\Data\\\\MachineLearningRating_v3.txt', sep='|')\n",
    "print(df.head()  )"
   ]
  },
  {
   "cell_type": "code",
   "execution_count": 5,
   "id": "59baf77e",
   "metadata": {},
   "outputs": [
    {
     "name": "stdout",
     "output_type": "stream",
     "text": [
      "<class 'pandas.core.frame.DataFrame'>\n",
      "RangeIndex: 1000098 entries, 0 to 1000097\n",
      "Data columns (total 52 columns):\n",
      " #   Column                    Non-Null Count    Dtype  \n",
      "---  ------                    --------------    -----  \n",
      " 0   UnderwrittenCoverID       1000098 non-null  int64  \n",
      " 1   PolicyID                  1000098 non-null  int64  \n",
      " 2   TransactionMonth          1000098 non-null  object \n",
      " 3   IsVATRegistered           1000098 non-null  bool   \n",
      " 4   Citizenship               1000098 non-null  object \n",
      " 5   LegalType                 1000098 non-null  object \n",
      " 6   Title                     1000098 non-null  object \n",
      " 7   Language                  1000098 non-null  object \n",
      " 8   Bank                      854137 non-null   object \n",
      " 9   AccountType               959866 non-null   object \n",
      " 10  MaritalStatus             991839 non-null   object \n",
      " 11  Gender                    990562 non-null   object \n",
      " 12  Country                   1000098 non-null  object \n",
      " 13  Province                  1000098 non-null  object \n",
      " 14  PostalCode                1000098 non-null  int64  \n",
      " 15  MainCrestaZone            1000098 non-null  object \n",
      " 16  SubCrestaZone             1000098 non-null  object \n",
      " 17  ItemType                  1000098 non-null  object \n",
      " 18  mmcode                    999546 non-null   float64\n",
      " 19  VehicleType               999546 non-null   object \n",
      " 20  RegistrationYear          1000098 non-null  int64  \n",
      " 21  make                      999546 non-null   object \n",
      " 22  Model                     999546 non-null   object \n",
      " 23  Cylinders                 999546 non-null   float64\n",
      " 24  cubiccapacity             999546 non-null   float64\n",
      " 25  kilowatts                 999546 non-null   float64\n",
      " 26  bodytype                  999546 non-null   object \n",
      " 27  NumberOfDoors             999546 non-null   float64\n",
      " 28  VehicleIntroDate          999546 non-null   object \n",
      " 29  CustomValueEstimate       220456 non-null   float64\n",
      " 30  AlarmImmobiliser          1000098 non-null  object \n",
      " 31  TrackingDevice            1000098 non-null  object \n",
      " 32  CapitalOutstanding        1000096 non-null  object \n",
      " 33  NewVehicle                846803 non-null   object \n",
      " 34  WrittenOff                358197 non-null   object \n",
      " 35  Rebuilt                   358197 non-null   object \n",
      " 36  Converted                 358197 non-null   object \n",
      " 37  CrossBorder               698 non-null      object \n",
      " 38  NumberOfVehiclesInFleet   0 non-null        float64\n",
      " 39  SumInsured                1000098 non-null  float64\n",
      " 40  TermFrequency             1000098 non-null  object \n",
      " 41  CalculatedPremiumPerTerm  1000098 non-null  float64\n",
      " 42  ExcessSelected            1000098 non-null  object \n",
      " 43  CoverCategory             1000098 non-null  object \n",
      " 44  CoverType                 1000098 non-null  object \n",
      " 45  CoverGroup                1000098 non-null  object \n",
      " 46  Section                   1000098 non-null  object \n",
      " 47  Product                   1000098 non-null  object \n",
      " 48  StatutoryClass            1000098 non-null  object \n",
      " 49  StatutoryRiskType         1000098 non-null  object \n",
      " 50  TotalPremium              1000098 non-null  float64\n",
      " 51  TotalClaims               1000098 non-null  float64\n",
      "dtypes: bool(1), float64(11), int64(4), object(36)\n",
      "memory usage: 390.1+ MB\n"
     ]
    }
   ],
   "source": [
    "df.info()"
   ]
  },
  {
   "cell_type": "code",
   "execution_count": 6,
   "id": "278f55be",
   "metadata": {},
   "outputs": [
    {
     "name": "stdout",
     "output_type": "stream",
     "text": [
      "Columns with null values:\n",
      "Index(['Bank', 'AccountType', 'MaritalStatus', 'Gender', 'mmcode',\n",
      "       'VehicleType', 'make', 'Model', 'Cylinders', 'cubiccapacity',\n",
      "       'kilowatts', 'bodytype', 'NumberOfDoors', 'VehicleIntroDate',\n",
      "       'CustomValueEstimate', 'CapitalOutstanding', 'NewVehicle', 'WrittenOff',\n",
      "       'Rebuilt', 'Converted', 'CrossBorder', 'NumberOfVehiclesInFleet'],\n",
      "      dtype='object')\n"
     ]
    }
   ],
   "source": [
    "cols_with_null = df.columns[df.isnull().any()]\n",
    "df_with_nulls = df[cols_with_null]\n",
    "print(\"Columns with null values:\")\n",
    "print(cols_with_null)"
   ]
  },
  {
   "cell_type": "code",
   "execution_count": 7,
   "id": "109ded57",
   "metadata": {},
   "outputs": [
    {
     "data": {
      "text/plain": [
       "NumberOfVehiclesInFleet    1.000000\n",
       "CrossBorder                0.999302\n",
       "CustomValueEstimate        0.779566\n",
       "Converted                  0.641838\n",
       "Rebuilt                    0.641838\n",
       "WrittenOff                 0.641838\n",
       "NewVehicle                 0.153280\n",
       "Bank                       0.145947\n",
       "AccountType                0.040228\n",
       "Gender                     0.009535\n",
       "MaritalStatus              0.008258\n",
       "Cylinders                  0.000552\n",
       "cubiccapacity              0.000552\n",
       "kilowatts                  0.000552\n",
       "NumberOfDoors              0.000552\n",
       "VehicleIntroDate           0.000552\n",
       "Model                      0.000552\n",
       "make                       0.000552\n",
       "VehicleType                0.000552\n",
       "mmcode                     0.000552\n",
       "bodytype                   0.000552\n",
       "CapitalOutstanding         0.000002\n",
       "dtype: float64"
      ]
     },
     "execution_count": 7,
     "metadata": {},
     "output_type": "execute_result"
    }
   ],
   "source": [
    "df_with_nulls.isnull().mean().sort_values(ascending=False)"
   ]
  },
  {
   "cell_type": "code",
   "execution_count": 8,
   "id": "575d9314",
   "metadata": {},
   "outputs": [],
   "source": [
    "df.drop(columns=[\n",
    "    'NumberOfVehiclesInFleet', 'CrossBorder', 'CustomValueEstimate',\n",
    "    'Converted', 'Rebuilt', 'WrittenOff'\n",
    "], inplace=True)\n"
   ]
  },
  {
   "cell_type": "code",
   "execution_count": 9,
   "id": "8b70ac71",
   "metadata": {},
   "outputs": [
    {
     "data": {
      "text/plain": [
       "array(['Current account', 'Savings account', nan, 'Transmission account'],\n",
       "      dtype=object)"
      ]
     },
     "execution_count": 9,
     "metadata": {},
     "output_type": "execute_result"
    }
   ],
   "source": [
    "df['AccountType'].unique()"
   ]
  },
  {
   "cell_type": "code",
   "execution_count": 10,
   "id": "55959738",
   "metadata": {},
   "outputs": [
    {
     "name": "stderr",
     "output_type": "stream",
     "text": [
      "C:\\Users\\hp\\AppData\\Local\\Temp\\ipykernel_9644\\956357804.py:1: FutureWarning: A value is trying to be set on a copy of a DataFrame or Series through chained assignment using an inplace method.\n",
      "The behavior will change in pandas 3.0. This inplace method will never work because the intermediate object on which we are setting values always behaves as a copy.\n",
      "\n",
      "For example, when doing 'df[col].method(value, inplace=True)', try using 'df.method({col: value}, inplace=True)' or df[col] = df[col].method(value) instead, to perform the operation inplace on the original object.\n",
      "\n",
      "\n",
      "  df['NewVehicle'] = df['NewVehicle'].fillna('Unknown', inplace=True)\n"
     ]
    }
   ],
   "source": [
    "df['NewVehicle'] = df['NewVehicle'].fillna('Unknown', inplace=True)\n",
    "df['Bank'] = df['Bank'].fillna('Unknown')\n",
    "df['AccountType'] = df['AccountType'].fillna(df['AccountType'].mode()[0])"
   ]
  },
  {
   "cell_type": "code",
   "execution_count": 11,
   "id": "22f9d29d",
   "metadata": {},
   "outputs": [
    {
     "name": "stdout",
     "output_type": "stream",
     "text": [
      "<class 'pandas.core.frame.DataFrame'>\n",
      "RangeIndex: 1000098 entries, 0 to 1000097\n",
      "Data columns (total 46 columns):\n",
      " #   Column                    Non-Null Count    Dtype  \n",
      "---  ------                    --------------    -----  \n",
      " 0   UnderwrittenCoverID       1000098 non-null  int64  \n",
      " 1   PolicyID                  1000098 non-null  int64  \n",
      " 2   TransactionMonth          1000098 non-null  object \n",
      " 3   IsVATRegistered           1000098 non-null  bool   \n",
      " 4   Citizenship               1000098 non-null  object \n",
      " 5   LegalType                 1000098 non-null  object \n",
      " 6   Title                     1000098 non-null  object \n",
      " 7   Language                  1000098 non-null  object \n",
      " 8   Bank                      1000098 non-null  object \n",
      " 9   AccountType               1000098 non-null  object \n",
      " 10  MaritalStatus             991839 non-null   object \n",
      " 11  Gender                    990562 non-null   object \n",
      " 12  Country                   1000098 non-null  object \n",
      " 13  Province                  1000098 non-null  object \n",
      " 14  PostalCode                1000098 non-null  int64  \n",
      " 15  MainCrestaZone            1000098 non-null  object \n",
      " 16  SubCrestaZone             1000098 non-null  object \n",
      " 17  ItemType                  1000098 non-null  object \n",
      " 18  mmcode                    999546 non-null   float64\n",
      " 19  VehicleType               999546 non-null   object \n",
      " 20  RegistrationYear          1000098 non-null  int64  \n",
      " 21  make                      999546 non-null   object \n",
      " 22  Model                     999546 non-null   object \n",
      " 23  Cylinders                 999546 non-null   float64\n",
      " 24  cubiccapacity             999546 non-null   float64\n",
      " 25  kilowatts                 999546 non-null   float64\n",
      " 26  bodytype                  999546 non-null   object \n",
      " 27  NumberOfDoors             999546 non-null   float64\n",
      " 28  VehicleIntroDate          999546 non-null   object \n",
      " 29  AlarmImmobiliser          1000098 non-null  object \n",
      " 30  TrackingDevice            1000098 non-null  object \n",
      " 31  CapitalOutstanding        1000096 non-null  object \n",
      " 32  NewVehicle                0 non-null        object \n",
      " 33  SumInsured                1000098 non-null  float64\n",
      " 34  TermFrequency             1000098 non-null  object \n",
      " 35  CalculatedPremiumPerTerm  1000098 non-null  float64\n",
      " 36  ExcessSelected            1000098 non-null  object \n",
      " 37  CoverCategory             1000098 non-null  object \n",
      " 38  CoverType                 1000098 non-null  object \n",
      " 39  CoverGroup                1000098 non-null  object \n",
      " 40  Section                   1000098 non-null  object \n",
      " 41  Product                   1000098 non-null  object \n",
      " 42  StatutoryClass            1000098 non-null  object \n",
      " 43  StatutoryRiskType         1000098 non-null  object \n",
      " 44  TotalPremium              1000098 non-null  float64\n",
      " 45  TotalClaims               1000098 non-null  float64\n",
      "dtypes: bool(1), float64(9), int64(4), object(32)\n",
      "memory usage: 344.3+ MB\n"
     ]
    }
   ],
   "source": [
    "df.info()"
   ]
  },
  {
   "cell_type": "code",
   "execution_count": 12,
   "id": "ee471a82",
   "metadata": {},
   "outputs": [
    {
     "name": "stdout",
     "output_type": "stream",
     "text": [
      "Columns with null values:\n",
      "Index(['MaritalStatus', 'Gender', 'mmcode', 'VehicleType', 'make', 'Model',\n",
      "       'Cylinders', 'cubiccapacity', 'kilowatts', 'bodytype', 'NumberOfDoors',\n",
      "       'VehicleIntroDate', 'CapitalOutstanding', 'NewVehicle'],\n",
      "      dtype='object')\n"
     ]
    }
   ],
   "source": [
    "cols_with_null = df.columns[df.isnull().any()]\n",
    "df_with_nulls = df[cols_with_null]\n",
    "print(\"Columns with null values:\")\n",
    "print(cols_with_null)"
   ]
  },
  {
   "cell_type": "code",
   "execution_count": 13,
   "id": "719c975a",
   "metadata": {},
   "outputs": [
    {
     "name": "stdout",
     "output_type": "stream",
     "text": [
      "Percentage of null values in columns:\n",
      "NewVehicle            100.000000\n",
      "Gender                  0.953507\n",
      "MaritalStatus           0.825819\n",
      "mmcode                  0.055195\n",
      "VehicleType             0.055195\n",
      "make                    0.055195\n",
      "Model                   0.055195\n",
      "Cylinders               0.055195\n",
      "cubiccapacity           0.055195\n",
      "kilowatts               0.055195\n",
      "bodytype                0.055195\n",
      "NumberOfDoors           0.055195\n",
      "VehicleIntroDate        0.055195\n",
      "CapitalOutstanding      0.000200\n",
      "dtype: float64\n"
     ]
    }
   ],
   "source": [
    "cols_with_null = df.columns[df.isnull().any()]\n",
    "null_percentages = df[cols_with_null].isnull().mean().sort_values(ascending=False) * 100\n",
    "\n",
    "print(\"Percentage of null values in columns:\")\n",
    "print(null_percentages)"
   ]
  },
  {
   "cell_type": "code",
   "execution_count": 14,
   "id": "92a5d40d",
   "metadata": {},
   "outputs": [],
   "source": [
    "df.drop(columns=['NewVehicle'], inplace=True)\n"
   ]
  },
  {
   "cell_type": "code",
   "execution_count": 15,
   "id": "3c16b09e",
   "metadata": {},
   "outputs": [
    {
     "data": {
      "text/plain": [
       "array(['Not specified', 'Male', 'Female', nan], dtype=object)"
      ]
     },
     "execution_count": 15,
     "metadata": {},
     "output_type": "execute_result"
    }
   ],
   "source": [
    "df['Gender'].unique()"
   ]
  },
  {
   "cell_type": "code",
   "execution_count": 16,
   "id": "0171a540",
   "metadata": {},
   "outputs": [],
   "source": [
    "df['Gender'] = df['Gender'].fillna('Not specified')\n",
    "df['MaritalStatus'] = df['MaritalStatus'].fillna('Unknown')"
   ]
  },
  {
   "cell_type": "code",
   "execution_count": 17,
   "id": "e23de7e6",
   "metadata": {},
   "outputs": [
    {
     "data": {
      "text/plain": [
       "0          119300\n",
       "1          119300\n",
       "2          119300\n",
       "3          119300\n",
       "4          119300\n",
       "            ...  \n",
       "1000093         0\n",
       "1000094         0\n",
       "1000095         0\n",
       "1000096         0\n",
       "1000097         0\n",
       "Name: CapitalOutstanding, Length: 1000098, dtype: object"
      ]
     },
     "execution_count": 17,
     "metadata": {},
     "output_type": "execute_result"
    }
   ],
   "source": [
    "df['CapitalOutstanding']"
   ]
  },
  {
   "cell_type": "code",
   "execution_count": 18,
   "id": "97798a11",
   "metadata": {},
   "outputs": [],
   "source": [
    "# Categorical\n",
    "cat_cols = ['mmcode', 'VehicleType', 'make', 'Model', 'bodytype', 'CapitalOutstanding']\n",
    "for col in cat_cols:\n",
    "    df[col] = df[col].fillna(df[col].mode()[0])"
   ]
  },
  {
   "cell_type": "code",
   "execution_count": 19,
   "id": "bd0c4eeb",
   "metadata": {},
   "outputs": [],
   "source": [
    "# Numerical\n",
    "num_cols = ['Cylinders', 'cubiccapacity', 'kilowatts', 'NumberOfDoors']\n",
    "for col in num_cols:\n",
    "    df[col] = df[col].fillna(df[col].median())"
   ]
  },
  {
   "cell_type": "code",
   "execution_count": 20,
   "id": "d405a843",
   "metadata": {},
   "outputs": [],
   "source": [
    "# Date\n",
    "df['VehicleIntroDate'] = df['VehicleIntroDate'].fillna(df['VehicleIntroDate'].mode()[0])"
   ]
  },
  {
   "cell_type": "code",
   "execution_count": 21,
   "id": "cc669c35",
   "metadata": {},
   "outputs": [
    {
     "name": "stdout",
     "output_type": "stream",
     "text": [
      "Remaining missing values: 0\n"
     ]
    }
   ],
   "source": [
    "print(\"Remaining missing values:\", df.isnull().sum().sum())"
   ]
  },
  {
   "cell_type": "code",
   "execution_count": 22,
   "id": "a18b8fce",
   "metadata": {},
   "outputs": [
    {
     "name": "stdout",
     "output_type": "stream",
     "text": [
      "<class 'pandas.core.frame.DataFrame'>\n",
      "RangeIndex: 1000098 entries, 0 to 1000097\n",
      "Data columns (total 45 columns):\n",
      " #   Column                    Non-Null Count    Dtype  \n",
      "---  ------                    --------------    -----  \n",
      " 0   UnderwrittenCoverID       1000098 non-null  int64  \n",
      " 1   PolicyID                  1000098 non-null  int64  \n",
      " 2   TransactionMonth          1000098 non-null  object \n",
      " 3   IsVATRegistered           1000098 non-null  bool   \n",
      " 4   Citizenship               1000098 non-null  object \n",
      " 5   LegalType                 1000098 non-null  object \n",
      " 6   Title                     1000098 non-null  object \n",
      " 7   Language                  1000098 non-null  object \n",
      " 8   Bank                      1000098 non-null  object \n",
      " 9   AccountType               1000098 non-null  object \n",
      " 10  MaritalStatus             1000098 non-null  object \n",
      " 11  Gender                    1000098 non-null  object \n",
      " 12  Country                   1000098 non-null  object \n",
      " 13  Province                  1000098 non-null  object \n",
      " 14  PostalCode                1000098 non-null  int64  \n",
      " 15  MainCrestaZone            1000098 non-null  object \n",
      " 16  SubCrestaZone             1000098 non-null  object \n",
      " 17  ItemType                  1000098 non-null  object \n",
      " 18  mmcode                    1000098 non-null  float64\n",
      " 19  VehicleType               1000098 non-null  object \n",
      " 20  RegistrationYear          1000098 non-null  int64  \n",
      " 21  make                      1000098 non-null  object \n",
      " 22  Model                     1000098 non-null  object \n",
      " 23  Cylinders                 1000098 non-null  float64\n",
      " 24  cubiccapacity             1000098 non-null  float64\n",
      " 25  kilowatts                 1000098 non-null  float64\n",
      " 26  bodytype                  1000098 non-null  object \n",
      " 27  NumberOfDoors             1000098 non-null  float64\n",
      " 28  VehicleIntroDate          1000098 non-null  object \n",
      " 29  AlarmImmobiliser          1000098 non-null  object \n",
      " 30  TrackingDevice            1000098 non-null  object \n",
      " 31  CapitalOutstanding        1000098 non-null  object \n",
      " 32  SumInsured                1000098 non-null  float64\n",
      " 33  TermFrequency             1000098 non-null  object \n",
      " 34  CalculatedPremiumPerTerm  1000098 non-null  float64\n",
      " 35  ExcessSelected            1000098 non-null  object \n",
      " 36  CoverCategory             1000098 non-null  object \n",
      " 37  CoverType                 1000098 non-null  object \n",
      " 38  CoverGroup                1000098 non-null  object \n",
      " 39  Section                   1000098 non-null  object \n",
      " 40  Product                   1000098 non-null  object \n",
      " 41  StatutoryClass            1000098 non-null  object \n",
      " 42  StatutoryRiskType         1000098 non-null  object \n",
      " 43  TotalPremium              1000098 non-null  float64\n",
      " 44  TotalClaims               1000098 non-null  float64\n",
      "dtypes: bool(1), float64(9), int64(4), object(31)\n",
      "memory usage: 336.7+ MB\n"
     ]
    }
   ],
   "source": [
    "df.info()"
   ]
  },
  {
   "cell_type": "code",
   "execution_count": 23,
   "id": "0f9f69b3",
   "metadata": {},
   "outputs": [],
   "source": [
    "df.to_csv('..\\\\Data\\\\cleaned_df.csv', index=False)"
   ]
  }
 ],
 "metadata": {
  "kernelspec": {
   "display_name": "venv-Insurance",
   "language": "python",
   "name": "python3"
  },
  "language_info": {
   "codemirror_mode": {
    "name": "ipython",
    "version": 3
   },
   "file_extension": ".py",
   "mimetype": "text/x-python",
   "name": "python",
   "nbconvert_exporter": "python",
   "pygments_lexer": "ipython3",
   "version": "3.12.6"
  }
 },
 "nbformat": 4,
 "nbformat_minor": 5
}
