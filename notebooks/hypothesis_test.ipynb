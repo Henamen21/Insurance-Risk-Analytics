{
 "cells": [
  {
   "cell_type": "code",
   "execution_count": 12,
   "id": "ad60e8fb",
   "metadata": {},
   "outputs": [
    {
     "name": "stdout",
     "output_type": "stream",
     "text": [
      "utils.py loaded\n"
     ]
    },
    {
     "ename": "ModuleNotFoundError",
     "evalue": "No module named 'scripts.stat_tests'",
     "output_type": "error",
     "traceback": [
      "\u001b[31m---------------------------------------------------------------------------\u001b[39m",
      "\u001b[31mModuleNotFoundError\u001b[39m                       Traceback (most recent call last)",
      "\u001b[36mCell\u001b[39m\u001b[36m \u001b[39m\u001b[32mIn[12]\u001b[39m\u001b[32m, line 8\u001b[39m\n\u001b[32m      6\u001b[39m \u001b[38;5;66;03m# from scripts.utils import add_claims, add_claims_from_file\u001b[39;00m\n\u001b[32m      7\u001b[39m \u001b[38;5;28;01mfrom\u001b[39;00m\u001b[38;5;250m \u001b[39m\u001b[34;01mutils\u001b[39;00m\u001b[38;5;250m \u001b[39m\u001b[38;5;28;01mimport\u001b[39;00m add_claim_flags\n\u001b[32m----> \u001b[39m\u001b[32m8\u001b[39m \u001b[38;5;28;01mfrom\u001b[39;00m\u001b[38;5;250m \u001b[39m\u001b[34;01mscripts\u001b[39;00m\u001b[34;01m.\u001b[39;00m\u001b[34;01mstat_tests\u001b[39;00m\u001b[38;5;250m \u001b[39m\u001b[38;5;28;01mimport\u001b[39;00m t_test_numeric, anova_numeric, z_test_proportions\n",
      "\u001b[31mModuleNotFoundError\u001b[39m: No module named 'scripts.stat_tests'"
     ]
    }
   ],
   "source": [
    "import sys\n",
    "import os\n",
    "sys.path.append(os.path.abspath(os.path.join(os.getcwd(), '..')))\n",
    "\n",
    "import pandas as pd\n",
    "# from scripts.utils import add_claims, add_claims_from_file\n",
    "from utils import add_claim_flags\n",
    "from scripts.stat_tests import t_test_numeric, anova_numeric, z_test_proportions"
   ]
  },
  {
   "cell_type": "code",
   "execution_count": 13,
   "id": "712d2f7e",
   "metadata": {},
   "outputs": [
    {
     "name": "stderr",
     "output_type": "stream",
     "text": [
      "C:\\Users\\hp\\AppData\\Local\\Temp\\ipykernel_12164\\1733638760.py:1: DtypeWarning: Columns (31) have mixed types. Specify dtype option on import or set low_memory=False.\n",
      "  df = pd.read_csv('../Data/cleaned_df.csv')\n"
     ]
    },
    {
     "name": "stdout",
     "output_type": "stream",
     "text": [
      "   UnderwrittenCoverID  PolicyID     TransactionMonth  IsVATRegistered  \\\n",
      "0               145249     12827  2015-03-01 00:00:00             True   \n",
      "1               145249     12827  2015-05-01 00:00:00             True   \n",
      "2               145249     12827  2015-07-01 00:00:00             True   \n",
      "3               145255     12827  2015-05-01 00:00:00             True   \n",
      "4               145255     12827  2015-07-01 00:00:00             True   \n",
      "\n",
      "  Citizenship          LegalType Title Language                 Bank  \\\n",
      "0              Close Corporation    Mr  English  First National Bank   \n",
      "1              Close Corporation    Mr  English  First National Bank   \n",
      "2              Close Corporation    Mr  English  First National Bank   \n",
      "3              Close Corporation    Mr  English  First National Bank   \n",
      "4              Close Corporation    Mr  English  First National Bank   \n",
      "\n",
      "       AccountType  ...                    ExcessSelected CoverCategory  \\\n",
      "0  Current account  ...             Mobility - Windscreen    Windscreen   \n",
      "1  Current account  ...             Mobility - Windscreen    Windscreen   \n",
      "2  Current account  ...             Mobility - Windscreen    Windscreen   \n",
      "3  Current account  ...  Mobility - Metered Taxis - R2000    Own damage   \n",
      "4  Current account  ...  Mobility - Metered Taxis - R2000    Own damage   \n",
      "\n",
      "    CoverType            CoverGroup              Section  \\\n",
      "0  Windscreen  Comprehensive - Taxi  Motor Comprehensive   \n",
      "1  Windscreen  Comprehensive - Taxi  Motor Comprehensive   \n",
      "2  Windscreen  Comprehensive - Taxi  Motor Comprehensive   \n",
      "3  Own Damage  Comprehensive - Taxi  Motor Comprehensive   \n",
      "4  Own Damage  Comprehensive - Taxi  Motor Comprehensive   \n",
      "\n",
      "                           Product StatutoryClass StatutoryRiskType  \\\n",
      "0  Mobility Metered Taxis: Monthly     Commercial     IFRS Constant   \n",
      "1  Mobility Metered Taxis: Monthly     Commercial     IFRS Constant   \n",
      "2  Mobility Metered Taxis: Monthly     Commercial     IFRS Constant   \n",
      "3  Mobility Metered Taxis: Monthly     Commercial     IFRS Constant   \n",
      "4  Mobility Metered Taxis: Monthly     Commercial     IFRS Constant   \n",
      "\n",
      "   TotalPremium TotalClaims  \n",
      "0     21.929825         0.0  \n",
      "1     21.929825         0.0  \n",
      "2      0.000000         0.0  \n",
      "3    512.848070         0.0  \n",
      "4      0.000000         0.0  \n",
      "\n",
      "[5 rows x 45 columns]\n"
     ]
    }
   ],
   "source": [
    "df = pd.read_csv('../Data/cleaned_df.csv')\n",
    "print(df.head() )"
   ]
  },
  {
   "cell_type": "markdown",
   "id": "2b660855",
   "metadata": {},
   "source": [
    "Hypothesis 1\n",
    "- H₀:There are no risk differences across provinces \n",
    "- H1:There is a risk differences across provinces "
   ]
  },
  {
   "cell_type": "code",
   "execution_count": null,
   "id": "9a1366f9",
   "metadata": {},
   "outputs": [],
   "source": [
    "stat, p = anova_numeric(df, 'Province', 'HasClaim')\n",
    "print(f\"[Province Risk] ANOVA p = {p:.4f}\")\n",
    "\n",
    "# Add interpretation\n",
    "if p < 0.05:\n",
    "    print(\"Significant difference: Province likely affects HasClaim\")\n",
    "else:\n",
    "    print(\"No significant difference: Province likely does not affect HasClaim\")\n"
   ]
  },
  {
   "cell_type": "markdown",
   "id": "b8fc402f",
   "metadata": {},
   "source": [
    "Hypothesis 2\n",
    "- H₀: No risk difference between Zip Codes\n",
    "- H1: There is risk difference between Zip Codes"
   ]
  },
  {
   "cell_type": "code",
   "execution_count": null,
   "id": "1f275834",
   "metadata": {},
   "outputs": [],
   "source": [
    "# Choose 2 common zipcodes\n",
    "zip1, zip2 = 1459, 7500\n",
    "stat, p = z_test_proportions(df, 'PostalCode', zip1, zip2)\n",
    "print(f\"[Zip Risk] Z-Test ({zip1} vs {zip2}) p = {p:.4f}\")\n",
    "\n",
    "# Add interpretation\n",
    "if p < 0.05:\n",
    "    print(f\"Significant difference: Claim rates differ between zipcodes {zip1} and {zip2}\")\n",
    "else:\n",
    "    print(f\"No significant difference: Claim rates are similar for zipcodes {zip1} and {zip2}\")"
   ]
  },
  {
   "cell_type": "markdown",
   "id": "48b77df2",
   "metadata": {},
   "source": [
    "Hypothesis 3\n",
    "- H₀. No margin difference between zip codes\n",
    "- H1: There is margin difference between zip codes"
   ]
  },
  {
   "cell_type": "code",
   "execution_count": null,
   "id": "14af1d8f",
   "metadata": {},
   "outputs": [],
   "source": [
    "stat, p = t_test_numeric(df, 'PostalCode', 'Margin', zip1, zip2)\n",
    "print(f\"[Zip Margin] T-Test ({zip1} vs {zip2}) p = {p:.4f}\")\n",
    "\n",
    "# Add interpretation\n",
    "if p < 0.05:\n",
    "    print(f\"Significant difference: Average Margin differs between zipcodes {zip1} and {zip2}\")\n",
    "else:\n",
    "    print(f\"No significant difference: Average Margin is similar for zipcodes {zip1} and {zip2}\")"
   ]
  },
  {
   "cell_type": "markdown",
   "id": "5bb86c53",
   "metadata": {},
   "source": [
    "Hypothesis 4\n",
    "- H₀. No risk difference between women and men\n",
    "- H1: There is risk difference between women and men"
   ]
  },
  {
   "cell_type": "code",
   "execution_count": null,
   "id": "b4484e2e",
   "metadata": {},
   "outputs": [],
   "source": [
    "stat, p = z_test_proportions(df, 'Gender', 'Male', 'Female')\n",
    "print(f\"[Gender Risk] Z-Test p = {p:.4f}\")\n",
    "\n",
    "# Add interpretation\n",
    "if p < 0.05:\n",
    "    print(\"Significant difference: Claim rates differ between Male and Female\")\n",
    "else:\n",
    "    print(\"No significant difference: Claim rates are similar between Male and Female\")\n"
   ]
  }
 ],
 "metadata": {
  "kernelspec": {
   "display_name": "venv-Insurance",
   "language": "python",
   "name": "python3"
  },
  "language_info": {
   "codemirror_mode": {
    "name": "ipython",
    "version": 3
   },
   "file_extension": ".py",
   "mimetype": "text/x-python",
   "name": "python",
   "nbconvert_exporter": "python",
   "pygments_lexer": "ipython3",
   "version": "3.12.6"
  }
 },
 "nbformat": 4,
 "nbformat_minor": 5
}
